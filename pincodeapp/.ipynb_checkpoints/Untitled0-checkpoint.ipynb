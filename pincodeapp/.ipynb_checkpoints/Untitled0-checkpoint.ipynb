{
 "metadata": {
  "name": "",
  "signature": "sha256:43c452072f21f7285d799322dc45aa28dd986413fed7d789781357eea2fddc5f"
 },
 "nbformat": 3,
 "nbformat_minor": 0,
 "worksheets": []
}